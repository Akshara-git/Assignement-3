{
 "cells": [
  {
   "cell_type": "code",
   "execution_count": 1,
   "metadata": {},
   "outputs": [
    {
     "name": "stdout",
     "output_type": "stream",
     "text": [
      "(50, 30)\n"
     ]
    }
   ],
   "source": [
    " \"\"\"\"Write a function calculation() such that it can accept two\n",
    "variables as arguments and calculate the addition and\n",
    "subtraction of it. And also it must return both addition and\n",
    "subtraction in a single return call\"\"\"\n",
    "    \n",
    "    \n",
    "def calculation(a, b):\n",
    "    return a+b, a-b\n",
    "\n",
    "res = calculation(40, 10)\n",
    "print(res)"
   ]
  },
  {
   "cell_type": "code",
   "execution_count": 50,
   "metadata": {},
   "outputs": [
    {
     "name": "stdout",
     "output_type": "stream",
     "text": [
      "The employee name is Akshara and salary is:  9000\n",
      "The employee name is Akshara and salary is:  9000\n"
     ]
    }
   ],
   "source": [
    "\"\"\"Create a function showEmployee() in such a way that it\n",
    "should accept employee name, and it’s salary and display both,\n",
    "and if the salary is missing in function call it should show it as\n",
    "9000\"\"\"\n",
    "\n",
    "\n",
    "def showEmployee(name, salary=9000):\n",
    "    print(\"The employee name is\",name,\"and salary is: \",salary)\n",
    "\n",
    "showEmployee(\"Akshara\", 9000)\n",
    "showEmployee(\"Akshara\")"
   ]
  },
  {
   "cell_type": "code",
   "execution_count": 49,
   "metadata": {},
   "outputs": [
    {
     "data": {
      "text/plain": [
       "{'a': 1, 'w': 1, 'e': 2, 's': 1, 'o': 1, 'm': 1}"
      ]
     },
     "execution_count": 49,
     "metadata": {},
     "output_type": "execute_result"
    }
   ],
   "source": [
    "\"\"\" Write a function called multipleLetterCount. This function\n",
    "takes in one parameter (a string) and returns a dictionary with the\n",
    "keys being the letters and the value being the count of the letter.\n",
    "# Example output:\n",
    "# multipleLetterCount('awesome')\n",
    "# {'a': 1, 'e': 2, 'm': 1, 'o': 1, 's': 1, 'w': 1}\"\"\"\n",
    "\n",
    "\n",
    "def multipleLetterCount(s1):\n",
    "    dict={}\n",
    "    for n in s1:\n",
    "        keys=dict.keys()\n",
    "        if n in keys:\n",
    "            dict[n]+=1\n",
    "        else:\n",
    "            dict[n]=1\n",
    "    return dict\n",
    "counts=multipleLetterCount('awesome')\n",
    "counts\n",
    "\n",
    "\n"
   ]
  }
 ],
 "metadata": {
  "kernelspec": {
   "display_name": "Python 3",
   "language": "python",
   "name": "python3"
  },
  "language_info": {
   "codemirror_mode": {
    "name": "ipython",
    "version": 3
   },
   "file_extension": ".py",
   "mimetype": "text/x-python",
   "name": "python",
   "nbconvert_exporter": "python",
   "pygments_lexer": "ipython3",
   "version": "3.8.3"
  }
 },
 "nbformat": 4,
 "nbformat_minor": 4
}
